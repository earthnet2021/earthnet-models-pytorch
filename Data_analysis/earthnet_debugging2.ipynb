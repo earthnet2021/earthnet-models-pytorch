{
 "cells": [
  {
   "cell_type": "code",
   "execution_count": 1,
   "metadata": {},
   "outputs": [],
   "source": [
    "from pathlib import Path\n",
    "import xarray as xr\n",
    "import numpy as np\n",
    "import matplotlib.pyplot as plt\n",
    "import matplotlib.colors as clr\n",
    "cmap_veg = clr.LinearSegmentedColormap.from_list('veg', ['#ffffe5','#f7fcb9','#d9f0a3','#addd8e','#78c679','#41ab5d','#238443','#006837','#004529'])\n"
   ]
  },
  {
   "cell_type": "code",
   "execution_count": 2,
   "metadata": {},
   "outputs": [
    {
     "name": "stdout",
     "output_type": "stream",
     "text": [
      "len train set:  44141\n",
      "len test set:  4534\n",
      "len prediction set:  0\n"
     ]
    }
   ],
   "source": [
    "basepath = Path(\"/scratch/crobin/earthnet2023/\")\n",
    "train_paths = list(basepath.glob(\"train/*/*.nc\"))\n",
    "test_paths = list(basepath.glob(\"test/*/*.nc\"))\n",
    "pred_paths = list(Path(\"/Net/Groups/BGI/scratch/crobin/earthnet-models-pytorch/experiments/en23/convlstm_ae/convlstm_ae/config_lr_1e-6/preds/iid/\").glob(\"*/*\"))\n",
    "print(\"len train set: \", len(train_paths))\n",
    "print(\"len test set: \", len(test_paths))\n",
    "print(\"len prediction set: \", len(pred_paths))\n",
    "\n",
    "filepath = test_paths[10] #Path('/scratch/crobin/earthnet2023_preprocessed/test/Angola/32KRG5576.nc')"
   ]
  },
  {
   "cell_type": "code",
   "execution_count": 5,
   "metadata": {},
   "outputs": [
    {
     "ename": "ValueError",
     "evalue": "operands could not be broadcast together with shapes (450,128,128) (90,10) ",
     "output_type": "error",
     "traceback": [
      "\u001b[0;31m---------------------------------------------------------------------------\u001b[0m",
      "\u001b[0;31mValueError\u001b[0m                                Traceback (most recent call last)",
      "Cell \u001b[0;32mIn[5], line 10\u001b[0m\n\u001b[1;32m      8\u001b[0m time \u001b[39m=\u001b[39m [minicube\u001b[39m.\u001b[39mtime\u001b[39m.\u001b[39mvalues[i] \u001b[39mfor\u001b[39;00m i \u001b[39min\u001b[39;00m \u001b[39mrange\u001b[39m(\u001b[39m4\u001b[39m, \u001b[39m450\u001b[39m, \u001b[39m5\u001b[39m)]\n\u001b[1;32m      9\u001b[0m minicube \u001b[39m=\u001b[39m xr\u001b[39m.\u001b[39mopen_dataset(filepath)\n\u001b[0;32m---> 10\u001b[0m targets \u001b[39m=\u001b[39m (minicube\u001b[39m.\u001b[39;49ms2_B8A \u001b[39m-\u001b[39;49m minicube\u001b[39m.\u001b[39;49ms2_B04) \u001b[39m/\u001b[39;49m (\n\u001b[1;32m     11\u001b[0m                 minicube\u001b[39m.\u001b[39;49ms2_B8A \u001b[39m+\u001b[39;49m minicube\u001b[39m.\u001b[39;49ms2_B04 \u001b[39m+\u001b[39;49m \u001b[39m1e-6\u001b[39;49m\n\u001b[1;32m     12\u001b[0m             )\u001b[39m.\u001b[39;49msel(time\u001b[39m=\u001b[39;49mtime)\u001b[39m.\u001b[39;49mvalues[\n\u001b[1;32m     13\u001b[0m     :,context_length : context_length \u001b[39m+\u001b[39;49m target_length, \u001b[39m0\u001b[39;49m, \u001b[39m.\u001b[39;49m\u001b[39m.\u001b[39;49m\u001b[39m.\u001b[39;49m\n\u001b[1;32m     14\u001b[0m ]\n\u001b[1;32m     15\u001b[0m \u001b[39m# Masks on the non vegetation pixels\u001b[39;00m\n\u001b[1;32m     16\u001b[0m \u001b[39m# Dynamic cloud mask available\u001b[39;00m\n\u001b[1;32m     18\u001b[0m s2_mask \u001b[39m=\u001b[39m (\n\u001b[1;32m     19\u001b[0m     (\n\u001b[1;32m     20\u001b[0m         minicube\u001b[39m.\u001b[39mcloud_mask\u001b[39m.\u001b[39msel(time\u001b[39m=\u001b[39mtime)\u001b[39m.\u001b[39mvalues[\n\u001b[0;32m   (...)\u001b[0m\n\u001b[1;32m     27\u001b[0m     \u001b[39m.\u001b[39mbool()\n\u001b[1;32m     28\u001b[0m )\n",
      "File \u001b[0;32m~/miniconda3/envs/EarthnetEnv2/lib/python3.8/site-packages/xarray/core/_typed_ops.py:218\u001b[0m, in \u001b[0;36mDataArrayOpsMixin.__truediv__\u001b[0;34m(self, other)\u001b[0m\n\u001b[1;32m    217\u001b[0m \u001b[39mdef\u001b[39;00m \u001b[39m__truediv__\u001b[39m(\u001b[39mself\u001b[39m, other):\n\u001b[0;32m--> 218\u001b[0m     \u001b[39mreturn\u001b[39;00m \u001b[39mself\u001b[39;49m\u001b[39m.\u001b[39;49m_binary_op(other, operator\u001b[39m.\u001b[39;49mtruediv)\n",
      "File \u001b[0;32m~/miniconda3/envs/EarthnetEnv2/lib/python3.8/site-packages/xarray/core/dataarray.py:4367\u001b[0m, in \u001b[0;36mDataArray._binary_op\u001b[0;34m(self, other, f, reflexive)\u001b[0m\n\u001b[1;32m   4363\u001b[0m other_variable \u001b[39m=\u001b[39m \u001b[39mgetattr\u001b[39m(other, \u001b[39m\"\u001b[39m\u001b[39mvariable\u001b[39m\u001b[39m\"\u001b[39m, other)\n\u001b[1;32m   4364\u001b[0m other_coords \u001b[39m=\u001b[39m \u001b[39mgetattr\u001b[39m(other, \u001b[39m\"\u001b[39m\u001b[39mcoords\u001b[39m\u001b[39m\"\u001b[39m, \u001b[39mNone\u001b[39;00m)\n\u001b[1;32m   4366\u001b[0m variable \u001b[39m=\u001b[39m (\n\u001b[0;32m-> 4367\u001b[0m     f(\u001b[39mself\u001b[39;49m\u001b[39m.\u001b[39;49mvariable, other_variable)\n\u001b[1;32m   4368\u001b[0m     \u001b[39mif\u001b[39;00m \u001b[39mnot\u001b[39;00m reflexive\n\u001b[1;32m   4369\u001b[0m     \u001b[39melse\u001b[39;00m f(other_variable, \u001b[39mself\u001b[39m\u001b[39m.\u001b[39mvariable)\n\u001b[1;32m   4370\u001b[0m )\n\u001b[1;32m   4371\u001b[0m coords, indexes \u001b[39m=\u001b[39m \u001b[39mself\u001b[39m\u001b[39m.\u001b[39mcoords\u001b[39m.\u001b[39m_merge_raw(other_coords, reflexive)\n\u001b[1;32m   4372\u001b[0m name \u001b[39m=\u001b[39m \u001b[39mself\u001b[39m\u001b[39m.\u001b[39m_result_name(other)\n",
      "File \u001b[0;32m~/miniconda3/envs/EarthnetEnv2/lib/python3.8/site-packages/xarray/core/_typed_ops.py:408\u001b[0m, in \u001b[0;36mVariableOpsMixin.__truediv__\u001b[0;34m(self, other)\u001b[0m\n\u001b[1;32m    407\u001b[0m \u001b[39mdef\u001b[39;00m \u001b[39m__truediv__\u001b[39m(\u001b[39mself\u001b[39m, other):\n\u001b[0;32m--> 408\u001b[0m     \u001b[39mreturn\u001b[39;00m \u001b[39mself\u001b[39;49m\u001b[39m.\u001b[39;49m_binary_op(other, operator\u001b[39m.\u001b[39;49mtruediv)\n",
      "File \u001b[0;32m~/miniconda3/envs/EarthnetEnv2/lib/python3.8/site-packages/xarray/core/variable.py:2647\u001b[0m, in \u001b[0;36mVariable._binary_op\u001b[0;34m(self, other, f, reflexive)\u001b[0m\n\u001b[1;32m   2644\u001b[0m attrs \u001b[39m=\u001b[39m \u001b[39mself\u001b[39m\u001b[39m.\u001b[39m_attrs \u001b[39mif\u001b[39;00m keep_attrs \u001b[39melse\u001b[39;00m \u001b[39mNone\u001b[39;00m\n\u001b[1;32m   2645\u001b[0m \u001b[39mwith\u001b[39;00m np\u001b[39m.\u001b[39merrstate(\u001b[39mall\u001b[39m\u001b[39m=\u001b[39m\u001b[39m\"\u001b[39m\u001b[39mignore\u001b[39m\u001b[39m\"\u001b[39m):\n\u001b[1;32m   2646\u001b[0m     new_data \u001b[39m=\u001b[39m (\n\u001b[0;32m-> 2647\u001b[0m         f(self_data, other_data) \u001b[39mif\u001b[39;00m \u001b[39mnot\u001b[39;00m reflexive \u001b[39melse\u001b[39;00m f(other_data, self_data)\n\u001b[1;32m   2648\u001b[0m     )\n\u001b[1;32m   2649\u001b[0m result \u001b[39m=\u001b[39m Variable(dims, new_data, attrs\u001b[39m=\u001b[39mattrs)\n\u001b[1;32m   2650\u001b[0m \u001b[39mreturn\u001b[39;00m result\n",
      "\u001b[0;31mValueError\u001b[0m: operands could not be broadcast together with shapes (450,128,128) (90,10) "
     ]
    }
   ],
   "source": [
    "name = \"31SEA1934.nc\"\n",
    "test_path = list(basepath.glob(\"test/*/\" + name))[0]\n",
    "pred_path = list(Path(\"/Net/Groups/BGI/scratch/crobin/PythonProjects/EarthNet/earthnet-models-pytorch/experiments/en23/convlstm_ae/convlstm_ae/config_tf_preprocessed10/preds/iid\").glob(\"*/\" + name))[0]\n"
   ]
  }
 ],
 "metadata": {
  "kernelspec": {
   "display_name": "EarthnetEnv2",
   "language": "python",
   "name": "python3"
  },
  "language_info": {
   "codemirror_mode": {
    "name": "ipython",
    "version": 3
   },
   "file_extension": ".py",
   "mimetype": "text/x-python",
   "name": "python",
   "nbconvert_exporter": "python",
   "pygments_lexer": "ipython3",
   "version": "3.8.16"
  },
  "orig_nbformat": 4
 },
 "nbformat": 4,
 "nbformat_minor": 2
}
