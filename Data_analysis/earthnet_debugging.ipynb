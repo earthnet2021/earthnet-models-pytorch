{
 "cells": [
  {
   "cell_type": "code",
   "execution_count": 1,
   "metadata": {},
   "outputs": [],
   "source": [
    "from pathlib import Path\n",
    "import xarray as xr\n",
    "import numpy as np\n",
    "import matplotlib.pyplot as plt\n",
    "import matplotlib.colors as clr\n",
    "cmap_veg = clr.LinearSegmentedColormap.from_list('veg', ['#ffffe5','#f7fcb9','#d9f0a3','#addd8e','#78c679','#41ab5d','#238443','#006837','#004529'])\n",
    "\n"
   ]
  },
  {
   "cell_type": "code",
   "execution_count": 83,
   "metadata": {},
   "outputs": [
    {
     "name": "stdout",
     "output_type": "stream",
     "text": [
      "len train set:  30499\n",
      "len test set:  3193\n",
      "len prediction set:  210\n"
     ]
    }
   ],
   "source": [
    "basepath = Path(\"/scratch/crobin/earthnet2023_preprocessed/\")\n",
    "train_paths = list(basepath.glob(\"train/*/*.nc\"))\n",
    "test_paths = list(basepath.glob(\"test/*/*.nc\"))\n",
    "pred_paths = list(Path(\"/Net/Groups/BGI/scratch/crobin/earthnet-models-pytorch/experiments/en23/convlstm_ae/convlstm_ae/config_lr_1e-6/preds/iid/\").glob(\"*/*\"))\n",
    "print(\"len train set: \", len(train_paths))\n",
    "print(\"len test set: \", len(test_paths))\n",
    "print(\"len prediction set: \", len(pred_paths))"
   ]
  },
  {
   "cell_type": "code",
   "execution_count": 7,
   "metadata": {},
   "outputs": [
    {
     "ename": "IndexError",
     "evalue": "list index out of range",
     "output_type": "error",
     "traceback": [
      "\u001b[0;31m---------------------------------------------------------------------------\u001b[0m",
      "\u001b[0;31mIndexError\u001b[0m                                Traceback (most recent call last)",
      "Cell \u001b[0;32mIn[7], line 1\u001b[0m\n\u001b[0;32m----> 1\u001b[0m pred_path \u001b[39m=\u001b[39m pred_paths[\u001b[39m6\u001b[39;49m]\n\u001b[1;32m      2\u001b[0m \u001b[39mprint\u001b[39m(pred_path)\n\u001b[1;32m      3\u001b[0m name \u001b[39m=\u001b[39m \u001b[39mstr\u001b[39m(pred_path)[\u001b[39m-\u001b[39m\u001b[39m12\u001b[39m:]\n",
      "\u001b[0;31mIndexError\u001b[0m: list index out of range"
     ]
    }
   ],
   "source": [
    "pred_path = pred_paths[6]\n",
    "print(pred_path)\n",
    "name = str(pred_path)[-12:]\n",
    "test_path = list(basepath.glob(\"test/*/\" + name))[0]"
   ]
  },
  {
   "cell_type": "code",
   "execution_count": 90,
   "metadata": {},
   "outputs": [],
   "source": [
    "filepath = test_paths[1] #Path('/scratch/crobin/earthnet2023_preprocessed/test/Angola/32KRG5576.nc')\n",
    "minicube = xr.open_dataset(filepath)\n",
    "targ = minicube.cop_dem.values.ndim\n"
   ]
  },
  {
   "cell_type": "code",
   "execution_count": 92,
   "metadata": {},
   "outputs": [],
   "source": [
    "variables = {\n",
    "    # Sentinel 2 bands. Spatio-temporal data. Every 5 days.\n",
    "    \"s2_bands\": [\"s2_B02\", \"s2_B03\", \"s2_B04\", \"s2_B05\", \"s2_B06\", \"s2_B07\", \"s2_B8A\"],\n",
    "    \"s2_avail\": [\"s2_avail\"],\n",
    "    \"s2_scene_classification\": [\"s2_SCL\"],\n",
    "    \"cloud_mask\": [\"s2_mask\"],\n",
    "    # Sentinel 1 bands. Spatio-temporal data. Every 12 days.\n",
    "    \"s1_bands\": [\"s1_vv\", \"s1_vh\"],\n",
    "    \"s1_avail\": [\"s1_avail\"],\n",
    "    # Monthly mean and std computed over 1984-2020 using Landsat 5, 7, 8. Digital Earth Africa product.\n",
    "    \"ndviclim\": [\"ndviclim_mean\", \"ndviclim_std\"],\n",
    "    # Era5 reanalysis dataset. Era5 era5land pev and pet have a low precision\n",
    "    \"era5lands\": [\n",
    "        \"era5land_t2m_mean\",\n",
    "        \"era5land_pev_mean\",\n",
    "        \"era5land_slhf_mean\",\n",
    "        \"era5land_ssr_mean\",\n",
    "        \"era5land_sp_mean\",\n",
    "        \"era5land_sshf_mean\",\n",
    "        \"era5land_e_mean\",\n",
    "        \"era5land_tp_mean\",\n",
    "        \"era5land_t2m_min\",\n",
    "        \"era5land_pev_min\",\n",
    "        \"era5land_slhf_min\",\n",
    "        \"era5land_ssr_min\",\n",
    "        \"era5land_sp_min\",\n",
    "        \"era5land_sshf_min\",\n",
    "        \"era5land_e_min\",\n",
    "        \"era5land_tp_min\",\n",
    "        \"era5land_t2m_max\",\n",
    "        \"era5land_pev_max\",\n",
    "        \"era5land_slhf_max\",\n",
    "        \"era5land_ssr_max\",\n",
    "        \"era5land_sp_max\",\n",
    "        \"era5land_sshf_max\",\n",
    "        \"era5land_e_max\",\n",
    "        \"era5land_tp_max\",\n",
    "    ],\n",
    "    # Era5 recomputed by Fabian Gans for the XAIDA project. More accurate.\n",
    "    \"era5\": [\n",
    "        \"era5_e\",\n",
    "        \"era5_pet\",\n",
    "        \"era5_pev\",\n",
    "        \"era5_ssrd\",\n",
    "        \"era5_t2m\",\n",
    "        \"era5_t2mmax\",\n",
    "        \"era5_t2mmin\",\n",
    "        \"era5_tp\",\n",
    "    ],\n",
    "    # soigrids is not yet define on 128 x 128 pixels. Can maybe not be used during the prediction period.\n",
    "    \"soilgrids\": [\n",
    "        \"sg_bdod_top_mean\",\n",
    "        \"sg_bdod_sub_mean\",\n",
    "        \"sg_cec_top_mean\",\n",
    "        \"sg_cec_sub_mean\",\n",
    "        \"sg_cfvo_top_mean\",\n",
    "        \"sg_cfvo_sub_mean\",\n",
    "        \"sg_clay_top_mean\",\n",
    "        \"sg_clay_sub_mean\",\n",
    "        \"sg_nitrogen_top_mean\",\n",
    "        \"sg_nitrogen_sub_mean\",\n",
    "        \"sg_phh2o_top_mean\",\n",
    "        \"sg_phh2o_sub_mean\",\n",
    "        \"sg_ocd_top_mean\",\n",
    "        \"sg_ocd_sub_mean\",\n",
    "        \"sg_sand_top_mean\",\n",
    "        \"sg_sand_sub_mean\",\n",
    "        \"sg_silt_top_mean\",\n",
    "        \"sg_silt_sub_mean\",\n",
    "        \"sg_soc_top_mean\",\n",
    "        \"sg_soc_sub_mean\",\n",
    "    ],\n",
    "    # Elevation map. Defined on 0 - 2000.\n",
    "    \"elevation\": [\"cop_dem\"],  # ['srtm_dem', 'alos_dem', 'cop_dem'],\n",
    "    # Landscape classes. Categorical variable.\n",
    "    \"landcover\": [\"esawc_lc\"],\n",
    "    # Geomorphon classes. Categorical variable. geomorphon is not define on 128 x 128 pixels neither.\n",
    "    \"geomorphon\": [\"geom_cls\"],\n",
    "}"
   ]
  },
  {
   "cell_type": "code",
   "execution_count": 100,
   "metadata": {},
   "outputs": [],
   "source": [
    "import torch\n",
    "# Open the minicube\n",
    "type = np.float16\n",
    "minicube = xr.open_dataset(filepath)\n",
    "targ = (minicube.s2_B8A - minicube.s2_B04) / (\n",
    "                minicube.s2_B8A + minicube.s2_B04 + 1e-6\n",
    "            )\n",
    "# Select the days with available data\n",
    "indexes_avail = np.where(minicube.s2_avail.values == 1)[0]\n",
    "# s2 is every 5 days\n",
    "time = [minicube.time.values[i] for i in range(4, 450, 5)]\n",
    "dates = [minicube.time.values[i] for i in (indexes_avail)]\n",
    "\n",
    "# Condition to check that the every 5 days inclus all the dates available (+ missing day)\n",
    "if not set(dates) <= set(time):\n",
    "    raise AssertionError(\"ERROR: time indexes of the minicubes are not consistant \", filepath)\n",
    "\n",
    "# Create the minicube\n",
    "# s2 is 10 to 5 days, and already rescaled [0, 1]\n",
    "s2_cube = (\n",
    "    minicube[variables[\"s2_bands\"]]\n",
    "    .to_array()\n",
    "    .sel(time=time)\n",
    "    .values.transpose((1, 0, 2, 3))\n",
    "    .astype(type)[:, :, :128, :128]\n",
    ")  # shape: (time, channels, w, h)\n",
    "\n",
    "s2_mask = (\n",
    "    minicube[variables[\"cloud_mask\"]]\n",
    "    .to_array()\n",
    "    .sel(time=time)\n",
    "    .values.transpose((1, 0, 2, 3))\n",
    "    .astype(type)[:, :, :128, :128]\n",
    ")  # (time, 1, w, h)\n",
    "\n",
    "target = (\n",
    "    targ\n",
    "    .sel(time=time)\n",
    "    .values[:, None, ...]\n",
    "    .astype(type)[:, :, :128, :128]\n",
    ")\n",
    "\n",
    "# weather is daily\n",
    "meteo_cube = minicube[variables[\"era5\"]]\n",
    "\n",
    "# rescale temperature on the extreme values ever observed in Africa (Kelvin).\n",
    "meteo_cube[\"era5_t2m\"] = (meteo_cube[\"era5_t2m\"] - 248) / (328 - 248)\n",
    "meteo_cube[\"era5_t2mmin\"] = (meteo_cube[\"era5_t2mmin\"] - 248) / (328 - 248)\n",
    "meteo_cube[\"era5_t2mmax\"] = (meteo_cube[\"era5_t2mmax\"] - 248) / (328 - 248)\n",
    "\n",
    "meteo_cube = meteo_cube.to_array().values.transpose((1, 0)).astype(type)\n",
    "meteo_cube[np.isnan(meteo_cube)] = 0\n",
    "\n",
    "# TODO NaN values are replaces by the mean of each variable.\n",
    "# col_mean = np.nanmean(meteo_cube, axis=0)\n",
    "# inds = np.where(np.isnan(meteo_cube))\n",
    "# meteo_cube[inds] = np.take(col_mean, inds[1])\n",
    "\n",
    "topography = (\n",
    "    minicube[variables[\"elevation\"]].to_array() / 2000\n",
    ")  # c h w, rescaling\n",
    "\n",
    "# TODO  [:, :128, :128] and mean to remove?\n",
    "topography = topography.values.astype(type)[:, :128, :128]\n",
    "topography[np.isnan(topography)] = np.mean(\n",
    "    topography\n",
    ")  # idk if we can have missing value in the topography\n",
    "\n",
    "landcover = (\n",
    "    minicube[variables[\"landcover\"]]\n",
    "    .to_array()\n",
    "    .values.astype(type)[:, :128, :128]\n",
    ")  # c h w\n",
    "\n",
    "# TODO transform landcover in categoritcal variables if used for training\n",
    "\n",
    "# TODO to remove?\n",
    "# NaN values handling\n",
    "s2_cube = np.where(np.isnan(s2_cube), np.zeros(1).astype(type), s2_cube)\n",
    "target = np.where(np.isnan(target), np.zeros(1).astype(type), target)\n",
    "meteo_cube = np.where(\n",
    "    np.isnan(meteo_cube), np.zeros(1).astype(type), meteo_cube\n",
    ")\n",
    "topography = np.where(\n",
    "    np.isnan(topography), np.zeros(1).astype(type), topography\n",
    ")\n",
    "landcover = np.where(\n",
    "    np.isnan(landcover), np.zeros(1).astype(type), landcover\n",
    ")\n",
    "satellite_data = np.concatenate((target, s2_cube), axis=1)\n",
    "\n",
    "\n",
    "# Final minicube\n",
    "data = {\n",
    "    \"dynamic\": [\n",
    "        np.expand_dims(satellite_data, axis=0), #.unsqueeze(0),\n",
    "            np.expand_dims(meteo_cube, axis=0) #.unsqueeze(0)\n",
    "        ,\n",
    "    ],\n",
    "    \"dynamic_mask\": [np.expand_dims(s2_mask, axis=0)],\n",
    "    \"static\": [np.expand_dims(topography, axis=0)],\n",
    "    # \"target\": torch.from_numpy(target),\n",
    "    # \"s2_avail\": torch.from_numpy(s2_avail),\n",
    "    \"landcover\": np.expand_dims(landcover, axis=0),\n",
    "    \"filepath\": str(filepath),\n",
    "}"
   ]
  },
  {
   "cell_type": "code",
   "execution_count": 101,
   "metadata": {},
   "outputs": [
    {
     "name": "stdout",
     "output_type": "stream",
     "text": [
      "(90,)\n"
     ]
    },
    {
     "data": {
      "image/png": "[encoded data removed]",
      "text/plain": [
       "<Figure size 640x480 with 1 Axes>"
      ]
     },
     "metadata": {},
     "output_type": "display_data"
    }
   ],
   "source": [
    "# Transform \n",
    "mask = s2_mask[:,0,...]\n",
    "mask[mask >= 1] = np.nan\n",
    "\n",
    "# Computation of the NaN values\n",
    "series_nan  = np.sum(np.isnan(mask), axis=(1,2))\n",
    "print(series_nan.shape)\n",
    "plt.stairs(series_nan)\n",
    "plt.show()"
   ]
  },
  {
   "cell_type": "code",
   "execution_count": 103,
   "metadata": {},
   "outputs": [
    {
     "ename": "TypeError",
     "evalue": "expected Tensor as element 0 in argument 0, but got numpy.ndarray",
     "output_type": "error",
     "traceback": [
      "\u001b[0;31m---------------------------------------------------------------------------\u001b[0m",
      "\u001b[0;31mTypeError\u001b[0m                                 Traceback (most recent call last)",
      "Cell \u001b[0;32mIn[103], line 18\u001b[0m\n\u001b[1;32m     16\u001b[0m \u001b[39m# Encoding network\u001b[39;00m\n\u001b[1;32m     17\u001b[0m \u001b[39mfor\u001b[39;00m t \u001b[39min\u001b[39;00m \u001b[39mrange\u001b[39m(context_length):\n\u001b[0;32m---> 18\u001b[0m     \u001b[39minput\u001b[39m \u001b[39m=\u001b[39m torch\u001b[39m.\u001b[39;49mcat((sentinel[:, t, \u001b[39m.\u001b[39;49m\u001b[39m.\u001b[39;49m\u001b[39m.\u001b[39;49m], static), dim\u001b[39m=\u001b[39;49m\u001b[39m1\u001b[39;49m)\n\u001b[1;32m     19\u001b[0m     \u001b[39m# WARNING only for En23\u001b[39;00m\n\u001b[1;32m     20\u001b[0m     weather_t \u001b[39m=\u001b[39m (\n\u001b[1;32m     21\u001b[0m         weather[:, t : t \u001b[39m+\u001b[39m \u001b[39m5\u001b[39m, \u001b[39m.\u001b[39m\u001b[39m.\u001b[39m\u001b[39m.\u001b[39m]\n\u001b[1;32m     22\u001b[0m         \u001b[39m.\u001b[39mview(weather\u001b[39m.\u001b[39mshape[\u001b[39m0\u001b[39m], \u001b[39m1\u001b[39m, \u001b[39m-\u001b[39m\u001b[39m1\u001b[39m, \u001b[39m1\u001b[39m, \u001b[39m1\u001b[39m)\n\u001b[1;32m     23\u001b[0m         \u001b[39m.\u001b[39mrepeat(\u001b[39m1\u001b[39m, \u001b[39m1\u001b[39m, \u001b[39m128\u001b[39m, \u001b[39m128\u001b[39m)\n\u001b[1;32m     24\u001b[0m     )\n",
      "\u001b[0;31mTypeError\u001b[0m: expected Tensor as element 0 in argument 0, but got numpy.ndarray"
     ]
    }
   ],
   "source": [
    "sentinel = data[\"dynamic\"][0]\n",
    "weather = np.expand_dims(data[\"dynamic\"][1], axis=(3,4))\n",
    "\n",
    "static = data[\"static\"][0] if data[\"static\"][0].ndim == 4 else data[\"static\"][0][... ,0]\n",
    "\n",
    "# Shape: batch size, temporal size, number of channels, height, width\n",
    "b, t, _, h, w = sentinel.shape\n",
    "\n",
    "# initialize hidden states\n",
    "context_length = 60\n",
    "skip_connections = True\n",
    "target_length = 30\n",
    "\n",
    "output = []\n",
    "\n",
    "# Encoding network\n",
    "for t in range(context_length):\n",
    "    input = torch.cat((sentinel[:, t, ...], static), dim=1)\n",
    "    # WARNING only for En23\n",
    "    weather_t = (\n",
    "        weather[:, t : t + 5, ...]\n",
    "        .view(weather.shape[0], 1, -1, 1, 1)\n",
    "        .repeat(1, 1, 128, 128)\n",
    "    )\n",
    "    input = torch.cat((input, weather_t), dim=1)\n",
    "    # First block\n",
    "    pred = sentinel[:, t, ...]\n",
    "\n",
    "# add the last frame of the context period\n",
    "if skip_connections:\n",
    "    pred = pred + sentinel[:, -1, 0, ...].unsqueeze(1)\n",
    "\n",
    "\n",
    "\n",
    "# forecasting network\n",
    "for t in range(target_length):\n",
    "    # if teacher_forcing:\n",
    "    #    pred = target[:, c_l + t, ...]\n",
    "\n",
    "    # Skip connection\n",
    "    pred_previous = torch.clone(pred)\n",
    "\n",
    "    # Input\n",
    "    weather_t = (\n",
    "        weather[:, context_length + t : context_length + t + 5, ...]\n",
    "        .view(weather.shape[0], 1, -1, 1, 1)\n",
    "        .squeeze(1)\n",
    "        .repeat(1, 1, 128, 128)\n",
    "    )\n",
    "    pred = torch.cat((pred, static), dim=1)\n",
    "    pred = torch.cat((pred, weather_t), dim=1)\n",
    "\n",
    "    if skip_connections:\n",
    "        pred = pred + pred_previous\n",
    "\n",
    "    # Output\n",
    "\n",
    "    output += [pred.unsqueeze(1)]\n",
    "output = torch.cat(output, dim=1)  # .unsqueeze(2)\n"
   ]
  },
  {
   "cell_type": "code",
   "execution_count": 88,
   "metadata": {},
   "outputs": [
    {
     "data": {
      "text/plain": [
       "<matplotlib.colorbar.Colorbar at 0x7f3fc4123c40>"
      ]
     },
     "execution_count": 88,
     "metadata": {},
     "output_type": "execute_result"
    },
    {
     "data": {
      "image/png": "[encoded data removed]",
      "text/plain": [
       "<Figure size 2000x2000 with 26 Axes>"
      ]
     },
     "metadata": {},
     "output_type": "display_data"
    }
   ],
   "source": [
    "\n",
    "target = data[\"dynamic_mask\"][0][:,0,...]\n",
    "cmap = clr.LinearSegmentedColormap.from_list('veg', ['#ffffe5','#f7fcb9','#d9f0a3','#addd8e','#78c679','#41ab5d','#238443','#006837','#004529'])\n",
    "\n",
    "name = \"cop dem\"\n",
    "fig, axes = plt.subplots(nrows=5, ncols=5, figsize=(20, 20))\n",
    "fig.suptitle(\"mask of \" + name)\n",
    "t= 0\n",
    "for i in range(5):\n",
    "    for j in range(5):\n",
    "        #axes[i,j].set_aspect(1)\n",
    "        axes[i,j].get_xaxis().set_visible(False)\n",
    "        axes[i,j].get_yaxis().set_visible(False)\n",
    "        axes[i,j].set_title(t)\n",
    "        im = axes[i,j].imshow(target[t], vmin=-0.1, vmax=1.1)\n",
    "        #im = targ.isel(time=time[t]).plot(cmap=cmap_veg, ax=axes[i,j])\n",
    "        t += 1 # non gap filled, a lot of nan values\n",
    "\n",
    "fig.subplots_adjust(right=0.8)\n",
    "cbar_ax = fig.add_axes([0.85, 0.15, 0.05, 0.7])\n",
    "fig.colorbar(im, cax=cbar_ax)"
   ]
  }
 ],
 "metadata": {
  "kernelspec": {
   "display_name": "ENpt16py38",
   "language": "python",
   "name": "python3"
  },
  "language_info": {
   "codemirror_mode": {
    "name": "ipython",
    "version": 3
   },
   "file_extension": ".py",
   "mimetype": "text/x-python",
   "name": "python",
   "nbconvert_exporter": "python",
   "pygments_lexer": "ipython3",
   "version": "3.8.16"
  },
  "orig_nbformat": 4
 },
 "nbformat": 4,
 "nbformat_minor": 2
}
