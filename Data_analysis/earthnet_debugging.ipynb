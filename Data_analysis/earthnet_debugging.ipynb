{
 "cells": [
  {
   "cell_type": "code",
   "execution_count": 3,
   "metadata": {},
   "outputs": [],
   "source": [
    "from pathlib import Path\n",
    "import xarray as xr\n",
    "import numpy as np\n",
    "import matplotlib.pyplot as plt\n",
    "import matplotlib.colors as clr\n",
    "cmap_veg = clr.LinearSegmentedColormap.from_list('veg', ['#ffffe5','#f7fcb9','#d9f0a3','#addd8e','#78c679','#41ab5d','#238443','#006837','#004529'])\n",
    "\n"
   ]
  },
  {
   "cell_type": "code",
   "execution_count": 9,
   "metadata": {},
   "outputs": [],
   "source": [
    "basepath = Path(\"/workspace/data/s3/earthnet/earthnet2023/\")\n",
    "train_paths = list(basepath.glob(\"*/*.nc\"))\n",
    "test_paths = list(basepath.glob(\"test/*/*.nc\"))\n",
    "pred_paths = list(Path(\"/workspace/crobin/earthnet-models-pytorch/experiments/en23/convlstm_ae/convlstm_ae/config_anomalie/preds/iid/\").glob(\"*/*\"))"
   ]
  },
  {
   "cell_type": "code",
   "execution_count": 10,
   "metadata": {},
   "outputs": [],
   "source": [
    "pred_path = pred_paths[6]\n",
    "name = str(pred_path)[-12:]\n",
    "test_path = list(basepath.glob(\"test/*/\" + name))[0]"
   ]
  },
  {
   "cell_type": "code",
   "execution_count": 16,
   "metadata": {},
   "outputs": [
    {
     "name": "stdout",
     "output_type": "stream",
     "text": [
      "[nan nan nan ... nan nan nan]\n",
      "2191\n",
      "[   7   17   27   37   47   67   77   87   97  107  127  137  147  157\n",
      "  167  177  187  197  207  217  227  237  247  257  267  277  287  297\n",
      "  307  317  327  337  347  357  367  397  407  417  427  437  447  457\n",
      "  467  477  487  497  507  517  527  537  547  552  557  562  567  572\n",
      "  577  582  587  592  597  602  607  612  617  627  632  642  652  657\n",
      "  662  667  677  682  687  692  697  707  712  717  722  727  732  737\n",
      "  742  747  752  757  762  767  772  777  787  792  802  807  812  817\n",
      "  822  827  832  837  842  847  852  857  862  867  872  877  882  887\n",
      "  892  897  902  907  912  917  922  927  932  937  942  947  952  957\n",
      "  962  967  972  977  982  992  997 1002 1007 1012 1017 1022 1027 1032\n",
      " 1037 1042 1047 1052 1057 1062 1067 1072 1077 1082 1087 1092 1097 1102\n",
      " 1107 1112 1117 1122 1127 1132 1137 1142 1147 1152 1157 1162 1167 1172\n",
      " 1177 1182 1187 1192 1197 1202 1207 1212 1217 1222 1227 1232 1237 1242\n",
      " 1247 1252 1257 1262 1272 1277 1282 1287 1292 1297 1302 1307 1312 1317\n",
      " 1322 1327 1332 1337 1342 1347 1352 1357 1362 1367 1372 1377 1382 1392\n",
      " 1397 1402 1407 1412 1417 1422 1427 1432 1437 1442 1447 1452 1457 1462\n",
      " 1467 1472 1477 1482 1487 1492 1497 1502 1507 1512 1517 1522 1527 1532\n",
      " 1537 1542 1547 1552 1557 1562 1567 1572 1577 1582 1587 1592 1597 1602\n",
      " 1607 1612 1617 1622 1627 1632 1637 1642 1647 1652 1657 1662 1667 1672\n",
      " 1677 1682 1687 1692 1697 1702 1707 1712 1717 1722 1727 1732 1737 1742\n",
      " 1747 1752 1757 1762 1767 1772 1777 1782 1787 1792 1797 1802 1807 1812\n",
      " 1817 1822 1827 1832 1837 1842 1847 1852 1857 1862 1867 1872 1877 1882\n",
      " 1887 1892 1897 1902 1907 1912 1917 1922 1927 1932 1937 1942 1947 1952\n",
      " 1957 1962 1967 1972 1977 1982 1987 1992 1997 2002 2007 2012 2017 2022\n",
      " 2027 2032 2037 2042 2047 2052 2057 2062 2067 2072 2077 2082 2087 2092\n",
      " 2097 2102 2107 2112 2137 2147 2152 2157 2162 2167 2177 2182 2187]\n"
     ]
    }
   ],
   "source": [
    "# Select the days with available data\n",
    "minicube = xr.open_dataset(test_path)\n",
    "s2_avail = np.array(minicube.s2_avail.values)\n",
    "print(s2_avail)\n",
    "# s2 is every 5 days\n",
    "t_len = s2_avail.shape[0]\n",
    "# time = [i for i in range(4, t_len, 5)]\n",
    "time = np.where(minicube.s2_avail.values == 1)[0]\n"
   ]
  },
  {
   "cell_type": "code",
   "execution_count": null,
   "metadata": {},
   "outputs": [],
   "source": []
  }
 ],
 "metadata": {
  "kernelspec": {
   "display_name": "ENpt16py38",
   "language": "python",
   "name": "python3"
  },
  "language_info": {
   "codemirror_mode": {
    "name": "ipython",
    "version": 3
   },
   "file_extension": ".py",
   "mimetype": "text/x-python",
   "name": "python",
   "nbconvert_exporter": "python",
   "pygments_lexer": "ipython3",
   "version": "3.8.12"
  },
  "orig_nbformat": 4
 },
 "nbformat": 4,
 "nbformat_minor": 2
}
