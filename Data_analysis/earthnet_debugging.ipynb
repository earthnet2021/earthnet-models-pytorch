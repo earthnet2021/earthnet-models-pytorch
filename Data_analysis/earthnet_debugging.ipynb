{
 "cells": [
  {
   "cell_type": "code",
   "execution_count": 8,
   "metadata": {},
   "outputs": [],
   "source": [
    "from pathlib import Path\n",
    "import xarray as xr\n",
    "import numpy as np\n",
    "import matplotlib.pyplot as plt\n",
    "import matplotlib.colors as clr\n",
    "cmap_veg = clr.LinearSegmentedColormap.from_list('veg', ['#ffffe5','#f7fcb9','#d9f0a3','#addd8e','#78c679','#41ab5d','#238443','#006837','#004529'])\n",
    "\n"
   ]
  },
  {
   "cell_type": "code",
   "execution_count": 9,
   "metadata": {},
   "outputs": [],
   "source": [
    "basepath = Path(\"/scratch/crobin/earthnet2023_preprocessed/\")\n",
    "train_paths = list(basepath.glob(\"train/*/*.nc\"))\n",
    "test_paths = list(basepath.glob(\"test/*/*.nc\"))\n",
    "pred_paths = list(Path(\"/workspace/crobin/earthnet-models-pytorch/experiments/en23/convlstm_ae/convlstm_ae/config_anomalie/preds/iid/\").glob(\"*/*\"))"
   ]
  },
  {
   "cell_type": "code",
   "execution_count": 10,
   "metadata": {},
   "outputs": [
    {
     "ename": "IndexError",
     "evalue": "list index out of range",
     "output_type": "error",
     "traceback": [
      "\u001b[0;31m---------------------------------------------------------------------------\u001b[0m",
      "\u001b[0;31mIndexError\u001b[0m                                Traceback (most recent call last)",
      "Cell \u001b[0;32mIn[10], line 1\u001b[0m\n\u001b[0;32m----> 1\u001b[0m pred_path \u001b[39m=\u001b[39m pred_paths[\u001b[39m6\u001b[39;49m]\n\u001b[1;32m      2\u001b[0m name \u001b[39m=\u001b[39m \u001b[39mstr\u001b[39m(pred_path)[\u001b[39m-\u001b[39m\u001b[39m12\u001b[39m:]\n\u001b[1;32m      3\u001b[0m test_path \u001b[39m=\u001b[39m \u001b[39mlist\u001b[39m(basepath\u001b[39m.\u001b[39mglob(\u001b[39m\"\u001b[39m\u001b[39mtest/*/\u001b[39m\u001b[39m\"\u001b[39m \u001b[39m+\u001b[39m name))[\u001b[39m0\u001b[39m]\n",
      "\u001b[0;31mIndexError\u001b[0m: list index out of range"
     ]
    }
   ],
   "source": [
    "pred_path = pred_paths[6]\n",
    "name = str(pred_path)[-12:]\n",
    "test_path = list(basepath.glob(\"test/*/\" + name))[0]"
   ]
  },
  {
   "cell_type": "code",
   "execution_count": 21,
   "metadata": {},
   "outputs": [
    {
     "name": "stdout",
     "output_type": "stream",
     "text": [
      "90\n",
      "91\n"
     ]
    },
    {
     "ename": "AssertionError",
     "evalue": "('ERROR: time indexes of the minicubes are not consistant ', PosixPath('/scratch/crobin/earthnet2023_preprocessed/test/Angola/34LGM0316.nc'))",
     "output_type": "error",
     "traceback": [
      "\u001b[0;31m---------------------------------------------------------------------------\u001b[0m",
      "\u001b[0;31mAssertionError\u001b[0m                            Traceback (most recent call last)",
      "Cell \u001b[0;32mIn[21], line 14\u001b[0m\n\u001b[1;32m     12\u001b[0m \u001b[39m# Condition to check that the every 5 days inclus all the dates available (+ missing day)\u001b[39;00m\n\u001b[1;32m     13\u001b[0m \u001b[39mif\u001b[39;00m \u001b[39mnot\u001b[39;00m \u001b[39mset\u001b[39m(dates) \u001b[39m<\u001b[39m\u001b[39m=\u001b[39m \u001b[39mset\u001b[39m(time):\n\u001b[0;32m---> 14\u001b[0m     \u001b[39mraise\u001b[39;00m \u001b[39mAssertionError\u001b[39;00m(\u001b[39m\"\u001b[39m\u001b[39mERROR: time indexes of the minicubes are not consistant \u001b[39m\u001b[39m\"\u001b[39m, filepath)\n",
      "\u001b[0;31mAssertionError\u001b[0m: ('ERROR: time indexes of the minicubes are not consistant ', PosixPath('/scratch/crobin/earthnet2023_preprocessed/test/Angola/34LGM0316.nc'))"
     ]
    }
   ],
   "source": [
    "filepath = test_paths[10] #Path('/scratch/crobin/earthnet2023_preprocessed/test/Angola/32KRG5576.nc')\n",
    "minicube = xr.open_dataset(filepath)\n",
    "\n",
    "# Select the days with available data\n",
    "indexes_avail = np.where(minicube.s2_avail.values == 1)[0]\n",
    "# s2 is every 5 days\n",
    "time = [minicube.time.values[i] for i in range(0, 450, 5)]\n",
    "dates = [minicube.time.values[i] for i in (indexes_avail)]\n",
    "print(len(time))\n",
    "print(len(dates))\n",
    "\n",
    "# Condition to check that the every 5 days inclus all the dates available (+ missing day)\n",
    "if not set(dates) <= set(time):\n",
    "    raise AssertionError(\"ERROR: time indexes of the minicubes are not consistant \", filepath)"
   ]
  },
  {
   "cell_type": "code",
   "execution_count": null,
   "metadata": {},
   "outputs": [],
   "source": []
  }
 ],
 "metadata": {
  "kernelspec": {
   "display_name": "ENpt16py38",
   "language": "python",
   "name": "python3"
  },
  "language_info": {
   "codemirror_mode": {
    "name": "ipython",
    "version": 3
   },
   "file_extension": ".py",
   "mimetype": "text/x-python",
   "name": "python",
   "nbconvert_exporter": "python",
   "pygments_lexer": "ipython3",
   "version": "3.8.16"
  },
  "orig_nbformat": 4
 },
 "nbformat": 4,
 "nbformat_minor": 2
}
