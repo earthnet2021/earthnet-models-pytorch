{
 "cells": [
  {
   "cell_type": "code",
   "execution_count": 2,
   "metadata": {},
   "outputs": [],
   "source": [
    "from pathlib import Path\n",
    "import datetime\n",
    "import xarray as xr\n",
    "import json\n",
    "import tqdm\n",
    "import numpy as np\n",
    "import matplotlib.pyplot as plt\n",
    "import matplotlib.colors as clr\n",
    "cmap_veg = clr.LinearSegmentedColormap.from_list('veg', ['#ffffe5','#f7fcb9','#d9f0a3','#addd8e','#78c679','#41ab5d','#238443','#006837','#004529'])\n",
    "\n",
    "\n",
    "# Paths\n",
    "basepath = Path(\"/scratch/crobin/earthnet2023_preprocessed/\")\n",
    "train_paths = list(basepath.glob(\"train/*/*.nc\"))\n",
    "test_paths = list(basepath.glob(\"test/*/*.nc\"))\n",
    "pred_paths = list(Path(\"/Net/Groups/BGI/scratch/crobin/earthnet-models-pytorch/experiments/en23/convlstm_ae/convlstm_ae/config_anomalie/preds/iid/\").glob(\"*/*\"))\n"
   ]
  },
  {
   "attachments": {},
   "cell_type": "markdown",
   "metadata": {},
   "source": [
    "**Missing data analysis**   \n",
    "1- Plot in time for missing data for 1 minicube"
   ]
  },
  {
   "cell_type": "code",
   "execution_count": 3,
   "metadata": {},
   "outputs": [
    {
     "ename": "IndexError",
     "evalue": "list index out of range",
     "output_type": "error",
     "traceback": [
      "\u001b[0;31m---------------------------------------------------------------------------\u001b[0m",
      "\u001b[0;31mIndexError\u001b[0m                                Traceback (most recent call last)",
      "Cell \u001b[0;32mIn[3], line 1\u001b[0m\n\u001b[0;32m----> 1\u001b[0m file \u001b[39m=\u001b[39m train_paths[\u001b[39m9\u001b[39;49m]\n\u001b[1;32m      2\u001b[0m \u001b[39mprint\u001b[39m(file)\n\u001b[1;32m      3\u001b[0m minicube \u001b[39m=\u001b[39m xr\u001b[39m.\u001b[39mopen_dataset(file)\u001b[39m.\u001b[39mload()\n",
      "\u001b[0;31mIndexError\u001b[0m: list index out of range"
     ]
    }
   ],
   "source": [
    "file = train_paths[9]\n",
    "print(file)\n",
    "minicube = xr.open_dataset(file).load()\n",
    "# Subset of period with the 2 satellite and only 5 days gap\n",
    "# minicube = minicube.where(minicube.time.dt.date\n",
    "# > datetime.date(2017, 6, 30), drop=True) \n",
    "\n",
    "# Subset of every 5 days\n",
    "indexes_avail = np.where(minicube.s2_avail.values == 1)[0]\n",
    "\n",
    "time = [minicube.time.values[i] for i in range(indexes_avail[0], indexes_avail[-1] + 1, 5)]\n",
    "dates = [minicube.time.values[i] for i in (indexes_avail)]\n",
    "# Condition to check that the every 5 days inclus all the dates available (+ missing day)\n",
    "if set(dates) <= set(time):\n",
    "    mask = minicube.s2_mask.sel(time=time)\n",
    "else: \n",
    "    print(\"ERROR\")\n",
    "\n",
    "# Transform \n",
    "mask.values[mask.values > 1] = np.nan\n",
    "\n",
    "# Computation of the NaN values\n",
    "series_nan  = np.sum(np.isnan(mask), axis=(1,2))\n",
    "plt.stairs(series_nan)\n",
    "plt.show()"
   ]
  },
  {
   "attachments": {},
   "cell_type": "markdown",
   "metadata": {},
   "source": [
    "2- Plot the histogram of missing data in the train dataset"
   ]
  },
  {
   "cell_type": "code",
   "execution_count": 8,
   "metadata": {},
   "outputs": [],
   "source": [
    "file = open(\"missing_value_train_from2016.json\")\n",
    "data = json.load(file)\n"
   ]
  },
  {
   "cell_type": "code",
   "execution_count": 9,
   "metadata": {},
   "outputs": [],
   "source": [
    "total = np.array([d['total_missing'] for d in data.values()]) / (128 * 128)\n",
    "series = [d['serie_missing'] for d in data.values()]\n",
    "len_series = np.array([len(d['serie_missing']) for d in data.values()])"
   ]
  },
  {
   "cell_type": "code",
   "execution_count": 10,
   "metadata": {},
   "outputs": [
    {
     "data": {
      "image/png": "[encoded data removed]",
      "text/plain": [
       "<Figure size 432x288 with 1 Axes>"
      ]
     },
     "metadata": {
      "needs_background": "light"
     },
     "output_type": "display_data"
    }
   ],
   "source": [
    "plt.hist(total * 100 / len_series, bins= 1000)\n",
    "plt.show()"
   ]
  },
  {
   "cell_type": "code",
   "execution_count": 50,
   "metadata": {},
   "outputs": [],
   "source": [
    "total = np.array([data[file]['total_missing'] for file in data.keys()])"
   ]
  },
  {
   "cell_type": "code",
   "execution_count": 19,
   "metadata": {},
   "outputs": [
    {
     "name": "stdout",
     "output_type": "stream",
     "text": [
      "len of the dataset:  4534\n"
     ]
    },
    {
     "name": "stderr",
     "output_type": "stream",
     "text": [
      "  0%|          | 0/4 [00:00<?, ?it/s]"
     ]
    },
    {
     "name": "stderr",
     "output_type": "stream",
     "text": [
      "100%|██████████| 4/4 [00:32<00:00,  8.07s/it]\n"
     ]
    }
   ],
   "source": [
    "from pathlib import Path\n",
    "import datetime\n",
    "import xarray as xr\n",
    "import numpy as np\n",
    "from tqdm import tqdm\n",
    "import json\n",
    "import random\n",
    "import os\n",
    "\n",
    "# Paths\n",
    "#basepath = Path(\"/scratch/crobin/earthnet2023/\")\n",
    "basepath = Path(\"/Net/Groups/BGI/work_1/scratch/s3/earthnet/earthnet2023/test/\")\n",
    "dst_path = \"/scratch/crobin/earthnet2023_preprocessed/test/\"\n",
    "# os.mkdir(dst_path)\n",
    "\n",
    "paths = list(basepath.glob(\"*/*.nc\"))\n",
    "print(\"len of the dataset: \", len(paths))\n",
    "\n",
    "data = {}\n",
    "\n",
    "for i, file in enumerate(tqdm(paths[1:5])):\n",
    "    minicube = xr.open_dataset(file).load()\n",
    "\n",
    "    # Subset of period with the 2 satellite and only 5 days gap\n",
    "    minicube = minicube.where(\n",
    "        minicube.time.dt.date > datetime.date(2017, 6, 30), drop=True\n",
    "    )\n",
    "\n",
    "    if len(minicube.time.dt.date.values) > 0:\n",
    "        # Subset of every 5 days\n",
    "        indexes_avail = np.where(minicube.s2_avail.values == 1)[0]\n",
    "        # if len(indexes_avail) > 0:\n",
    "        # Random subset of size 450 days.\n",
    "        beg = random.choice(indexes_avail[1:-90])\n",
    "        minicube  = minicube.isel(time=slice(beg - 5, beg + 450))\n",
    "\n",
    "        indexes_avail = np.where(minicube.s2_avail.values == 1)[0]\n",
    "        time = [\n",
    "            minicube.time.values[i]\n",
    "            for i in range(indexes_avail[0], indexes_avail[-1] + 1, 5)\n",
    "        ]\n",
    "        dates = [minicube.time.values[i] for i in (indexes_avail)]\n",
    "\n",
    "        # Condition to check that the every 5 days inclus all the dates available (+ missing day)\n",
    "        if set(dates) <= set(time): # dates is a subset of time.\n",
    "            mask = minicube.s2_mask.sel(time=time)\n",
    "        else:\n",
    "            print(\"ERROR: \", file)\n",
    "\n",
    "        # Transform\n",
    "        mask.values[mask.values > 1] = np.nan\n",
    "\n",
    "        # Computation of the NaN values\n",
    "        total_missing = np.sum(np.isnan(mask), axis=(0, 1, 2)).values.tolist()\n",
    "        serie_missing = np.sum(np.isnan(mask), axis=(1, 2)).values.tolist()\n",
    "\n",
    "        if total_missing / (len(serie_missing) * 128 * 128) < 0.15:\n",
    "            path = os.path.join(dst_path, str(file)[len(str(basepath))+1:-13])\n",
    "            if not os.path.exists(path):\n",
    "                os.mkdir(path)\n",
    "            name = os.path.join(path, str(file)[-12:])\n",
    "            minicube.to_netcdf(name)\n"
   ]
  },
  {
   "cell_type": "code",
   "execution_count": 18,
   "metadata": {},
   "outputs": [
    {
     "name": "stdout",
     "output_type": "stream",
     "text": [
      "True\n"
     ]
    }
   ],
   "source": [
    "A = set({1, 2, 3})\n",
    "B = set ({2})\n",
    "print(B <= A)"
   ]
  }
 ],
 "metadata": {
  "kernelspec": {
   "display_name": "ENpt16py38",
   "language": "python",
   "name": "python3"
  },
  "language_info": {
   "codemirror_mode": {
    "name": "ipython",
    "version": 3
   },
   "file_extension": ".py",
   "mimetype": "text/x-python",
   "name": "python",
   "nbconvert_exporter": "python",
   "pygments_lexer": "ipython3",
   "version": "3.10.11"
  },
  "orig_nbformat": 4
 },
 "nbformat": 4,
 "nbformat_minor": 2
}
